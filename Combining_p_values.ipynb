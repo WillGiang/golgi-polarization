{
 "cells": [
  {
   "cell_type": "code",
   "execution_count": 6,
   "metadata": {},
   "outputs": [],
   "source": [
    "import numpy as np\n",
    "import os\n",
    "from scipy import stats\n",
    "import pandas as pd\n",
    "\n",
    "csv_exp1 = r'C:/Users/letmedoit/endothelial Polarization-exp 1/p_value_statsexp 1.csv'\n",
    "csv_exp3 = r'C:/Users/letmedoit/17_09_13-golgi polarity exp 3/p_value_statsexp 3.csv'\n",
    "\n",
    "csv_files = [csv_exp1, csv_exp3]\n",
    "\n",
    "df_in_each_file = (pd.read_csv(f) for f in csv_files)\n",
    "\n",
    "df = pd.concat(df_in_each_file, ignore_index=True)\n"
   ]
  },
  {
   "cell_type": "code",
   "execution_count": 10,
   "metadata": {},
   "outputs": [
    {
     "data": {
      "text/html": [
       "<div>\n",
       "<style scoped>\n",
       "    .dataframe tbody tr th:only-of-type {\n",
       "        vertical-align: middle;\n",
       "    }\n",
       "\n",
       "    .dataframe tbody tr th {\n",
       "        vertical-align: top;\n",
       "    }\n",
       "\n",
       "    .dataframe thead th {\n",
       "        text-align: right;\n",
       "    }\n",
       "</style>\n",
       "<table border=\"1\" class=\"dataframe\">\n",
       "  <thead>\n",
       "    <tr style=\"text-align: right;\">\n",
       "      <th></th>\n",
       "      <th>p_values</th>\n",
       "      <th>pooled_sample_proportion</th>\n",
       "      <th>standard_error_between_two_proportions</th>\n",
       "      <th>times</th>\n",
       "      <th>z_scores</th>\n",
       "    </tr>\n",
       "  </thead>\n",
       "  <tbody>\n",
       "    <tr>\n",
       "      <th>0</th>\n",
       "      <td>1.463001e-02</td>\n",
       "      <td>0.803390</td>\n",
       "      <td>0.053378</td>\n",
       "      <td>2hrs</td>\n",
       "      <td>2.179966</td>\n",
       "    </tr>\n",
       "    <tr>\n",
       "      <th>1</th>\n",
       "      <td>2.919833e-09</td>\n",
       "      <td>0.764000</td>\n",
       "      <td>0.055949</td>\n",
       "      <td>4hrs</td>\n",
       "      <td>5.821286</td>\n",
       "    </tr>\n",
       "    <tr>\n",
       "      <th>2</th>\n",
       "      <td>1.286800e-06</td>\n",
       "      <td>0.876404</td>\n",
       "      <td>0.041974</td>\n",
       "      <td>6hrs</td>\n",
       "      <td>4.702211</td>\n",
       "    </tr>\n",
       "    <tr>\n",
       "      <th>3</th>\n",
       "      <td>2.053757e-03</td>\n",
       "      <td>0.772021</td>\n",
       "      <td>0.062812</td>\n",
       "      <td>2hrs</td>\n",
       "      <td>2.869785</td>\n",
       "    </tr>\n",
       "    <tr>\n",
       "      <th>4</th>\n",
       "      <td>4.145009e-02</td>\n",
       "      <td>0.776596</td>\n",
       "      <td>0.061346</td>\n",
       "      <td>4hrs</td>\n",
       "      <td>1.734101</td>\n",
       "    </tr>\n",
       "    <tr>\n",
       "      <th>5</th>\n",
       "      <td>2.218935e-02</td>\n",
       "      <td>0.753333</td>\n",
       "      <td>0.071845</td>\n",
       "      <td>6hrs</td>\n",
       "      <td>2.010496</td>\n",
       "    </tr>\n",
       "  </tbody>\n",
       "</table>\n",
       "</div>"
      ],
      "text/plain": [
       "       p_values  pooled_sample_proportion  \\\n",
       "0  1.463001e-02                  0.803390   \n",
       "1  2.919833e-09                  0.764000   \n",
       "2  1.286800e-06                  0.876404   \n",
       "3  2.053757e-03                  0.772021   \n",
       "4  4.145009e-02                  0.776596   \n",
       "5  2.218935e-02                  0.753333   \n",
       "\n",
       "   standard_error_between_two_proportions times  z_scores  \n",
       "0                                0.053378  2hrs  2.179966  \n",
       "1                                0.055949  4hrs  5.821286  \n",
       "2                                0.041974  6hrs  4.702211  \n",
       "3                                0.062812  2hrs  2.869785  \n",
       "4                                0.061346  4hrs  1.734101  \n",
       "5                                0.071845  6hrs  2.010496  "
      ]
     },
     "execution_count": 10,
     "metadata": {},
     "output_type": "execute_result"
    }
   ],
   "source": [
    "df"
   ]
  },
  {
   "cell_type": "code",
   "execution_count": 32,
   "metadata": {},
   "outputs": [],
   "source": [
    "grouped = df.groupby('times')\n",
    "\n",
    "two_hours = grouped.get_group('2hrs')\n",
    "four_hours = grouped.get_group('4hrs')\n",
    "six_hours = grouped.get_group('6hrs')\n",
    "\n",
    "_, p_value_two_hours_fisher = stats.combine_pvalues(two_hours['p_values'],\n",
    "                                                    method='fisher')\n",
    "_, p_value_four_hours_fisher = stats.combine_pvalues(four_hours['p_values'],\n",
    "                                                    method='fisher')\n",
    "_, p_value_six_hours_fisher = stats.combine_pvalues(six_hours['p_values'],\n",
    "                                                    method='fisher')\n",
    "\n",
    "_, p_value_two_hours_weightedZ = stats.combine_pvalues(two_hours['p_values'],\n",
    "                                                      method='stouffer',\n",
    "                                                      weights=1/two_hours['standard_error_between_two_proportions']\n",
    "                                                      )\n",
    "_, p_value_four_hours_weightedZ = stats.combine_pvalues(four_hours['p_values'],\n",
    "                                                      method='stouffer',\n",
    "                                                      weights=1/four_hours['standard_error_between_two_proportions']\n",
    "                                                      )\n",
    "\n",
    "_, p_value_six_hours_weightedZ = stats.combine_pvalues(two_hours['p_values'],\n",
    "                                                      method='stouffer',\n",
    "                                                      weights=1/six_hours['standard_error_between_two_proportions']\n",
    "                                                      )"
   ]
  },
  {
   "cell_type": "code",
   "execution_count": 34,
   "metadata": {},
   "outputs": [
    {
     "name": "stdout",
     "output_type": "stream",
     "text": [
      "2hr P value from Fisher's Method:0.000342913357512281\n",
      "2hr P value from Stouffer's Weighted Method:0.0002161551500314978\n",
      "\n",
      "\n",
      "4hr P value from Fisher's Method:2.8846870756867065e-09\n",
      "4hr P value from Stouffer's Weighted Method:2.254445587738879e-08\n",
      "\n",
      "\n",
      "6hr P value from Fisher's Method:5.245657513337438e-07\n",
      "6hr P value from Stouffer's Weighted Method:0.0004343484634282263\n"
     ]
    }
   ],
   "source": [
    "print(\"2hr P value from Fisher's Method:{}\".format(p_value_two_hours_fisher))\n",
    "print(\"2hr P value from Stouffer's Weighted Method:{}\".format(p_value_two_hours_weightedZ))\n",
    "print(\"\\n\")\n",
    "print(\"4hr P value from Fisher's Method:{}\".format(p_value_four_hours_fisher))\n",
    "print(\"4hr P value from Stouffer's Weighted Method:{}\".format(p_value_four_hours_weightedZ))\n",
    "print(\"\\n\")\n",
    "print(\"6hr P value from Fisher's Method:{}\".format(p_value_six_hours_fisher))\n",
    "print(\"6hr P value from Stouffer's Weighted Method:{}\".format(p_value_six_hours_weightedZ))\n"
   ]
  },
  {
   "cell_type": "code",
   "execution_count": null,
   "metadata": {
    "collapsed": true
   },
   "outputs": [],
   "source": []
  }
 ],
 "metadata": {
  "kernelspec": {
   "display_name": "Python 3",
   "language": "python",
   "name": "python3"
  },
  "language_info": {
   "codemirror_mode": {
    "name": "ipython",
    "version": 3
   },
   "file_extension": ".py",
   "mimetype": "text/x-python",
   "name": "python",
   "nbconvert_exporter": "python",
   "pygments_lexer": "ipython3",
   "version": "3.6.2"
  }
 },
 "nbformat": 4,
 "nbformat_minor": 2
}
