{
 "cells": [
  {
   "cell_type": "markdown",
   "metadata": {},
   "source": [
    "# Golgi Polarization at Wound Edge\n",
    "\n",
    "The Golgi responds to experimental wounding by reorientating (\"polarizing\") at the wound edge.\n",
    "\n",
    "This is an exploratory analysis with the goal of obtaining data such as Golgi orientation angle, Golgi perimeter, Golgi area, the animal it came from, how many hours it's been, etc.\n",
    "\n",
    "1. Use the "
   ]
  },
  {
   "cell_type": "code",
   "execution_count": null,
   "metadata": {},
   "outputs": [],
   "source": [
    "import numpy as np\n",
    "import matplotlib.pyplot as plt\n",
    "import matplotlib\n",
    "%matplotlib inline\n",
    "import matplotlib.colors as colors\n",
    "\n",
    "### Ensuring pretty plots ###\n",
    "plt.style.use('ggplot')\n",
    "plt.rc('axes', titlesize = 22)\n",
    "plt.rc('axes', labelsize = 22)\n",
    "plt.rc('xtick', labelsize = 15)\n",
    "plt.rc('ytick', labelsize = 15)"
   ]
  },
  {
   "cell_type": "markdown",
   "metadata": {},
   "source": [
    "## Importing tiff stacks into Python\n",
    "\n",
    "\n",
    "We use `skimage.io.imread()` to load tiff files containing three 16-bit channels (**Green, Blue, Red**). Respectively, they show **Golgi, cell nuclei, and cadherin**.\n",
    "\n",
    "Not all image readers can understand tiffs with multiple images. RGB image loaders frequently assume that your image is 8-bit where your values range 0 to 255. \n"
   ]
  },
  {
   "cell_type": "code",
   "execution_count": null,
   "metadata": {},
   "outputs": [],
   "source": [
    "### Importing tiff stack images with skimage.io.imread\n",
    "from skimage import io\n",
    "\n",
    "imdir = 'C:/Users/letmedoit/endothelial Polarization-exp 1/Animal 1- 4hrs-marked/'\n",
    "imarrayGBR = io.imread(imdir+'Animal 1_4hrs_002-edit.tif')  # loads to numpy array\n",
    "\n",
    "print(\"dtype:{}, shape:{}, min:{}, max:{}\".format(\n",
    "    imarrayGBR.dtype, imarrayGBR.shape, imarrayGBR.min(), imarrayGBR.max()))\n",
    "\n",
    "### N.B. The order is green, blue, red\n",
    "colors = ['Greens', 'Blues', 'Reds']\n",
    "names = ['Golgi', 'Nuclei', 'Cadherin']\n",
    "\n",
    "## Plotting under this line ##\n",
    "fig, ax = plt.subplots(1, 3, figsize=(15,15))\n",
    "\n",
    "for color in range(imarrayGBR.shape[2]):\n",
    "    ax[color].imshow(imarrayGBR[:,:,color], cmap=colors[color])\n",
    "    ax[color].set_title(names[color])\n",
    "    ax[color].set_axis_off()"
   ]
  },
  {
   "cell_type": "code",
   "execution_count": null,
   "metadata": {},
   "outputs": [],
   "source": []
  },
  {
   "cell_type": "code",
   "execution_count": null,
   "metadata": {},
   "outputs": [],
   "source": [
    "def showimage(imagearray, color='gray', title='', vmax=None):\n",
    "    colorsandcmaps = {'gray':'gray', 'green':'Greens',\n",
    "                      'blue':'Blues', 'red':'Reds'}\n",
    "    plt.figure(figsize=(9,9))\n",
    "    plt.imshow(imagearray,\n",
    "               vmax = vmax,\n",
    "               cmap = colorsandcmaps[color])\n",
    "    plt.xlabel('Pixel [x]')\n",
    "    plt.ylabel('Pixel [y]')\n",
    "    plt.title(title)\n",
    "    plt.colorbar()"
   ]
  },
  {
   "cell_type": "code",
   "execution_count": null,
   "metadata": {
    "scrolled": false
   },
   "outputs": [],
   "source": [
    "# The first image in the tif stack is green\n",
    "imarray = imarrayGBR[:,:,0] \n",
    "\n",
    "showimage(imarray, color='green', title='Green channel: Golgi', vmax=2000)"
   ]
  },
  {
   "cell_type": "markdown",
   "metadata": {},
   "source": [
    "## ROI designation\n",
    "\n",
    "Cynthia marked cells along the wound edge since these would be the ones to re-orient. The Fiji spray paint tool creates circles (assuming the mouse is held down enough) with a specific pixel intensity. __Unfortunately, the specific pixel intensity varies between images.__\n",
    "\n",
    "By inspection, we note that the spray can value varies between 1500 and 3500. "
   ]
  },
  {
   "cell_type": "code",
   "execution_count": null,
   "metadata": {
    "scrolled": false
   },
   "outputs": [],
   "source": [
    "fig, ax = plt.subplots(1,2, figsize=(15,9))\n",
    "\n",
    "n, bins, _ = ax[0].hist(imarray.flatten(),\n",
    "                            range=(1500,3500),\n",
    "                            bins=2000,\n",
    "                            histtype='step')\n",
    "\n",
    "ax[0].set_xlabel('Pixel Intensity')\n",
    "ax[0].set_ylabel('# of Pixels with Given Intensity')\n",
    "ax[0].set_title('Spray Paint Effect on Intensity Distribution')\n",
    "ax[0].grid('off')\n",
    "\n",
    "# Within the range (1500,3500), the spray-can intensity\n",
    "# is found the most and can be selected this way  \n",
    "sprayvalue = int(bins[n.argmax()])\n",
    "\n",
    "# mask to select pixels matching spray-can value\n",
    "sprayarray = imarray == sprayvalue\n",
    "\n",
    "ax[1].imshow(sprayarray)\n",
    "\n",
    "ax[1].set_title('Spray Paint Value Only')\n",
    "ax[1].set_xlabel('Pixel [x]')\n",
    "ax[1].set_ylabel('Pixel [y]')"
   ]
  },
  {
   "cell_type": "code",
   "execution_count": null,
   "metadata": {},
   "outputs": [],
   "source": [
    "def getSprayCanValue(greenimagearray, pixelrange=(1500,3500)):\n",
    "    \"\"\"Returns [int], the most probable pixel intensity for spraycan\n",
    "    \n",
    "    Keyword arguments\n",
    "    --------------------    \n",
    "    greenimagearray [2D array]\n",
    "        The image channel (green) marked with spraycan\n",
    "        \n",
    "    pixelrange [tuple]\n",
    "        The range of intensity values.\n",
    "        Make sure your range avoids the absolute maxima\n",
    "    \n",
    "    \n",
    "    \"\"\"\n",
    "    imarray = np.array(greenimagearray)\n",
    "    \n",
    "    n, bins, _ = ax[0].hist(imarray.flatten(),\n",
    "                            range=pixelrange,\n",
    "                            bins=pixelrange[1]-pixelrange[0]\n",
    "                           )\n",
    "    sprayvalue = int(bins[n.argmax()])\n",
    "    \n",
    "    return sprayvalue"
   ]
  },
  {
   "cell_type": "markdown",
   "metadata": {},
   "source": [
    "We can make a binary image to really see the spray painted values."
   ]
  },
  {
   "cell_type": "markdown",
   "metadata": {},
   "source": [
    "Currently `sprayarray` is a 2D boolean array. We want to get the indices where the values are True, and we'll use the indices as (x,y) pairs for cluster analysis. "
   ]
  },
  {
   "cell_type": "code",
   "execution_count": null,
   "metadata": {
    "scrolled": true
   },
   "outputs": [],
   "source": [
    "x,y = np.where(sprayarray==True)\n",
    "X = np.array((x,y)).T\n",
    "\n",
    "print('X.shape: {}'.format(X.shape))\n",
    "print('X: {}'.format(X))"
   ]
  },
  {
   "cell_type": "markdown",
   "metadata": {},
   "source": [
    "### Determine amount of cells with DBSCAN\n",
    "\n",
    "DBSCAN requires two parameters\n",
    "- $\\epsilon$, the maximum distance between two samples for them to be considered as in the same neighborhood\n",
    "- `min_samples`, the number of samples in a neighborhood for a point to be considered as a core point. This includes the point itself\n",
    "\n",
    "Noise is removed in a well-defined manner."
   ]
  },
  {
   "cell_type": "code",
   "execution_count": null,
   "metadata": {},
   "outputs": [],
   "source": [
    "## Thanks to dbscan documentation\n",
    "## http://scikit-learn.org/stable/auto_examples/cluster/plot_dbscan.html\n",
    "\n",
    "from sklearn.cluster import DBSCAN\n",
    "db = DBSCAN(eps=50, min_samples=10).fit(X)\n",
    "core_samples_mask = np.zeros_like(db.labels_, dtype=bool)\n",
    "core_samples_mask[db.core_sample_indices_] = True\n",
    "labels = db.labels_\n",
    "unique_labels = set(labels)\n",
    "\n",
    "# Number of clusters in labels, ignoring noise if present\n",
    "n_clusters_ = len(unique_labels) - (1 if -1 in labels else 0)\n",
    "\n",
    "print('Estimated number of clusters: {}'.format(n_clusters_))\n",
    "print('Unique labels: {}'.format(unique_labels))"
   ]
  },
  {
   "cell_type": "code",
   "execution_count": null,
   "metadata": {},
   "outputs": [],
   "source": []
  },
  {
   "cell_type": "code",
   "execution_count": null,
   "metadata": {
    "scrolled": false
   },
   "outputs": [],
   "source": [
    "plt.figure(figsize=(5,5))\n",
    "\n",
    "colors = [plt.cm.Spectral(each)\n",
    "         for each in np.linspace(0,1, len(unique_labels))]\n",
    "\n",
    "for k, col in zip(unique_labels, colors):\n",
    "    class_member_mask = (labels == k)\n",
    "    \n",
    "    xy = X[class_member_mask & core_samples_mask]\n",
    "    plt.plot(xy[:,0], xy[:,1], 'o', markerfacecolor=tuple(col),\n",
    "        markeredgecolor=tuple(col), markersize=5)\n",
    "\n",
    "    xy = X[class_member_mask & ~core_samples_mask]\n",
    "    plt.plot(xy[:,0], xy[:,1], 'o', markerfacecolor='k',\n",
    "            markeredgecolor='k', markersize=1)\n",
    "\n",
    "plt.xlim([0, imarray.shape[0]])\n",
    "plt.ylim([0, imarray.shape[1]])\n",
    "plt.xlabel('x')\n",
    "plt.ylabel('y')\n",
    "plt.title('DBSCAN Results\\nEstimated number of clusters: {}'.format(n_clusters_))"
   ]
  },
  {
   "cell_type": "code",
   "execution_count": null,
   "metadata": {
    "scrolled": false
   },
   "outputs": [],
   "source": [
    "plt.figure(figsize=(5,5))\n",
    "\n",
    "spraypaintcenters = []\n",
    "maxspraysize = 60 #pixels\n",
    "# the actual sprays are ~21 pixels wide, so this is generous\n",
    "\n",
    "colors = [plt.cm.Spectral(each)\n",
    "         for each in np.linspace(0,1, len(unique_labels))]\n",
    "badlabels = [-1]\n",
    "for k, col in zip(unique_labels, colors):\n",
    "    class_member_mask = (labels == k)\n",
    "    \n",
    "    xy = X[class_member_mask & core_samples_mask]\n",
    "    \n",
    "    if k != -1:        # Ignore noise\n",
    "        dx = np.max(xy[:,0]) - np.min(xy[:,0])\n",
    "        dy = np.max(xy[:,1]) - np.min(xy[:,1])\n",
    "        #print(dx, dy)\n",
    "        if max(dx,dy) < maxspraysize:\n",
    "            plt.plot(xy[:,0], xy[:,1], 'o', markerfacecolor=tuple(col),\n",
    "            markeredgecolor=tuple(col), markersize=5)\n",
    "            \n",
    "            spraypaintcenters.append(\n",
    "                [np.rint( np.min(xy[:,0]) + dx/2)  ,\n",
    "                 np.rint( np.min(xy[:,1]) + dy/2)])\n",
    "        else:\n",
    "            badlabels.append(k)\n",
    "\n",
    "plt.xlim([0, imarray.shape[0]])\n",
    "plt.ylim([0, imarray.shape[1]])\n",
    "plt.xlabel('x')\n",
    "plt.ylabel('y')\n",
    "plt.title('Cleaned DBSCAN Results\\nEstimated number of clusters: {}'\n",
    "          .format(len(unique_labels)-len(badlabels)))\n",
    "\n",
    "spraypaintcenters = np.array(spraypaintcenters).astype(int)\n",
    "#print(spraypaintcenters)\n",
    "#print(badlabels)"
   ]
  },
  {
   "cell_type": "markdown",
   "metadata": {},
   "source": [
    "If you're paying attention, you'll realize that this plot looks similar to the previous image.\n",
    "The origin for this plot is lower-left while the origin for the image is at the upper-left. This is a minor annoyance and can be managed; let's demonstrate that we understand how to go back to an image."
   ]
  },
  {
   "cell_type": "code",
   "execution_count": null,
   "metadata": {
    "scrolled": false
   },
   "outputs": [],
   "source": [
    "good_labels = ~np.in1d(labels, badlabels)\n",
    "good_X = X[good_labels]\n",
    "\n",
    "tobefilled = np.zeros_like(sprayarray)\n",
    "tobefilled[good_X[:,0], good_X[:,1]] = 1\n",
    "tobefilled = np.rot90(tobefilled, 0)\n",
    "\n",
    "## Plotting under this line ##\n",
    "plt.figure(figsize=(5,5))\n",
    "\n",
    "plt.imshow(tobefilled)\n",
    "\n",
    "plt.title('Spray Paint ID without noise')\n",
    "plt.xlabel('Pixel [x]')\n",
    "plt.ylabel('Pixel [y]')"
   ]
  },
  {
   "cell_type": "markdown",
   "metadata": {},
   "source": []
  },
  {
   "cell_type": "code",
   "execution_count": null,
   "metadata": {},
   "outputs": [],
   "source": [
    "def getROIpixels(imagearray, center, ROIside=222):\n",
    "    \"\"\"Return a box section of your original image array \n",
    "    \n",
    "    Keyword arguments\n",
    "    --------------------\n",
    "    imagearray: [array]\n",
    "        The image array to be sectioned\n",
    "        \n",
    "    center: [list] or [tuple] \n",
    "        pixel coordinates of ROI centroid given as either \n",
    "        a list [x,y] or a tuple (x,y)  \n",
    "        \n",
    "    ROIside: [int] (default: 222 pixels)\n",
    "        side length in pixels of desired box \n",
    "    \"\"\"\n",
    "    assert ROIside % 2 == 0, \"Give an even ROIside\"\n",
    "    \n",
    "    # Make a copy instead of referencing original\n",
    "    newimage = np.array(imagearray)\n",
    "    \n",
    "    halfside = ROIside/2\n",
    "    x = center[0]\n",
    "    y = center[1]\n",
    "    \n",
    "    upper = int(x + halfside)\n",
    "    lower = int(x - halfside)\n",
    "    right = int(y + halfside)\n",
    "    left  = int(y - halfside)\n",
    "\n",
    "    return newimage[lower:upper, left:right]"
   ]
  },
  {
   "cell_type": "markdown",
   "metadata": {},
   "source": [
    "### Removing Spray Paint from the image"
   ]
  },
  {
   "cell_type": "code",
   "execution_count": null,
   "metadata": {},
   "outputs": [],
   "source": [
    "def removeSprayCanFeature(imagearray, spraycanvalue):\n",
    "    \"\"\"Returns an image array where the pixels with spraycanvalue are mapped to the median value\n",
    "    \n",
    "    Keyword arguments\n",
    "    --------------------\n",
    "    imagearray: [array]\n",
    "        The image array to be sectioned\n",
    "        \n",
    "    spraycanvalue: [int]\n",
    "        An integer value to be removed and replaced by the median of the image\n",
    "    \"\"\" \n",
    "    # Make a copy instead of referencing original\n",
    "    newimage = np.array(imagearray)\n",
    "    \n",
    "    flatROI = newimage.flatten()\n",
    "    ROImedian = np.percentile(flatROI, 50)\n",
    "    \n",
    "    spraymask = newimage == spraycanvalue\n",
    "    newimage[spraymask] = ROImedian\n",
    "    \n",
    "    return newimage"
   ]
  },
  {
   "cell_type": "code",
   "execution_count": null,
   "metadata": {
    "scrolled": false
   },
   "outputs": [],
   "source": [
    "# From the entire image, select the region of interest.\n",
    "firstROI = getROIpixels(imarray, spraypaintcenters[0])\n",
    "\n",
    "# Remove the spray-can feature from the region of interest\n",
    "ROInospray = removeSprayCanFeature(imagearray=firstROI, spraycanvalue=sprayvalue)\n",
    "\n",
    "## Plotting under this line ##\n",
    "fig, ax = plt.subplots(1,2, figsize=(11,11))\n",
    "\n",
    "ax[0].imshow(firstROI)\n",
    "ax[0].set_title('With Spray-Can Feature')\n",
    "ax[0].set_axis_off()\n",
    "\n",
    "ax[1].imshow(ROInospray)\n",
    "ax[1].set_title('Without Spray-Can Feature')\n",
    "ax[1].set_axis_off()"
   ]
  },
  {
   "cell_type": "markdown",
   "metadata": {
    "scrolled": true
   },
   "source": [
    "Now that our ROI is corrected, we can start processing it.\n",
    "\n",
    "We will take a look at a handful of different image thresholding techniques:\n",
    "- Otsu's method\n",
    "- Yen\n",
    "- Li"
   ]
  },
  {
   "cell_type": "code",
   "execution_count": null,
   "metadata": {
    "scrolled": false
   },
   "outputs": [],
   "source": [
    "from skimage import filters\n",
    "from skimage import measure\n",
    "\n",
    "val_otsu = filters.threshold_otsu(ROInospray)\n",
    "val_yen = filters.threshold_yen(ROInospray)\n",
    "val_li  = filters.threshold_li(ROInospray)\n",
    "\n",
    "names = ['otsu', 'yen', 'li']\n",
    "methods = [val_otsu, val_yen, val_li]\n",
    "\n",
    "ALL_labels = []\n",
    "masks = []\n",
    "\n",
    "for method in methods:\n",
    "    mask = ROInospray > method\n",
    "    masks.append(mask)\n",
    "\n",
    "    all_labels = measure.label(mask, connectivity=2, background=0)\n",
    "    ALL_labels.append(all_labels)\n",
    "\n",
    "\n",
    "## Plotting under this line ##\n",
    "fig, ax = plt.subplots(2, 3, figsize=(10,7))\n",
    "ax=ax.ravel()\n",
    "\n",
    "for i, name in enumerate(names):\n",
    "    ax[i].imshow(masks[i], cmap='gray')\n",
    "    ax[i+3].imshow(ALL_labels[i], cmap='nipy_spectral')\n",
    "\n",
    "    ax[i].set_title(name)\n",
    "    ax[i+3].set_title(name)\n",
    "    ax[i].grid('off')\n",
    "    ax[i+3].grid('off')\n",
    "    ax[i].set_axis_off()\n",
    "    ax[i+3].set_axis_off()"
   ]
  },
  {
   "cell_type": "markdown",
   "metadata": {},
   "source": [
    "After discussion with Cynthia, the postdoc/domain expert, we chose to go with Otsu's method since its segmentation aligns well with the Golgi.\n",
    "\n",
    "Next let's run DBSCAN.\n",
    "\n"
   ]
  },
  {
   "cell_type": "code",
   "execution_count": null,
   "metadata": {
    "scrolled": true
   },
   "outputs": [],
   "source": [
    "otsu_mask = ROInospray > val_otsu\n",
    "\n",
    "# At this point otsu_mask is a 2D boolean array\n",
    "# We must convert it into x,y pairs\n",
    "xotsu, yotsu = np.where(otsu_mask==True)\n",
    "XYotsu = np.array((xotsu, yotsu)).T\n",
    "\n",
    "## Start DBSCAN\n",
    "from sklearn.cluster import DBSCAN\n",
    "\n",
    "db = DBSCAN(eps=10, min_samples=10).fit(XYotsu)\n",
    "core_samples_mask = np.zeros_like(db.labels_, dtype=bool)\n",
    "core_samples_mask[db.core_sample_indices_] = True\n",
    "labels = db.labels_\n",
    "unique_labels = set(labels)\n",
    "\n",
    "# Number of clusters in labels, ignoring noise if present\n",
    "n_clusters_ = len(unique_labels) - (1 if -1 in labels else 0)\n",
    "\n",
    "print('Estimated number of clusters: {}'.format(n_clusters_))\n",
    "print('Unique labels: {}'.format(unique_labels))\n",
    "\n",
    "# Black removed and is used for noise instead.\n",
    "unique_labels = set(labels)\n",
    "colors = [plt.cm.Spectral(each)\n",
    "          for each in np.linspace(0, 1, len(unique_labels))]\n",
    "for k, col in zip(unique_labels, colors):\n",
    "    if k == -1:\n",
    "        # Black used for noise.\n",
    "        col = [0, 0, 0, 1]\n",
    "\n",
    "    class_member_mask = (labels == k)\n",
    "\n",
    "    xy = XYotsu[class_member_mask & core_samples_mask]\n",
    "    plt.plot(xy[:, 0], xy[:, 1], 'o', markerfacecolor=tuple(col),\n",
    "             markeredgecolor=tuple(col), markersize=1)\n",
    "\n",
    "    xy = XYotsu[class_member_mask & ~core_samples_mask]\n",
    "    plt.plot(xy[:, 0], xy[:, 1], 'o', markerfacecolor=tuple(col),\n",
    "             markeredgecolor='k', markersize=1)\n",
    "\n",
    "plt.title('Estimated number of clusters: %d' % n_clusters_)"
   ]
  },
  {
   "cell_type": "markdown",
   "metadata": {},
   "source": [
    "Recall that the image-coordinate system has the origin at top-left with y increasing down. A (clockwise) 90-degree rotation is needed to go from this \"normal\" convention back to image-convention\n",
    "\n",
    "For example, in this coordinate system, higher y-values are actually \"more to the right\" in the image-convention\n",
    "\n",
    "Since these cells were chosen as edge cases and the wound is to the right, we can exploit this knowledge to select the correct cluster. \n",
    "\n",
    "I will do calculations here and rotate the final image.\n",
    "You can do whatever makes you happy.\n"
   ]
  },
  {
   "cell_type": "code",
   "execution_count": null,
   "metadata": {
    "scrolled": true
   },
   "outputs": [],
   "source": [
    "# Get the clusters into an easily slicable variable\n",
    "XYclusters = [XYotsu[labels == label] for label in unique_labels\n",
    "             if label != -1] # Ignore the noise labels\n",
    "\n",
    "# Determine the desired Golgi\n",
    "# knowing that the one we want will have\n",
    "# the highest Y-value in this coordinate system\n",
    "maxY = [np.max(cluster[:,1]) for cluster in XYclusters]\n",
    "golgi = XYclusters[np.argmax(maxY)]"
   ]
  },
  {
   "cell_type": "code",
   "execution_count": null,
   "metadata": {},
   "outputs": [],
   "source": [
    "golgimean = golgi.mean(axis=0)\n",
    "print('unweighted centroid:{}'.format(golgimean))\n",
    "\n",
    "tobefilled = np.zeros_like(ROInospray)\n",
    "tobefilled[golgi[:,0], golgi[:,1]] = 1\n",
    "golgirotated = np.rot90(tobefilled, 0)\n",
    "\n",
    "# Obtain Golgi properties. \n",
    "properties = measure.regionprops(golgirotated, cache=False)[0]\n",
    "\n",
    "area, perimeter, centroid = [properties[key] \n",
    "            for key in ['area', 'perimeter','centroid']]\n",
    "\n",
    "MICRONS_PER_PIXEL = 0.108\n",
    "\n",
    "print(area*MICRONS_PER_PIXEL**2)\n",
    "print(perimeter*MICRONS_PER_PIXEL)\n",
    "print(centroid)\n",
    "\n",
    "\n",
    "\n",
    "## Plotting under this line ##\n",
    "\n",
    "plt.imshow(golgirotated, label='Nucleus', cmap='gray')\n",
    "# note that the centroid's x and y are switched\n",
    "plt.scatter(centroid[1], centroid[0], c='b', label='Centroid')\n",
    "plt.grid('off')\n",
    "plt.title('Golgi')\n",
    "plt.legend()"
   ]
  },
  {
   "cell_type": "code",
   "execution_count": null,
   "metadata": {},
   "outputs": [],
   "source": []
  },
  {
   "cell_type": "markdown",
   "metadata": {},
   "source": [
    "### Determining centroid of nucleus\n",
    "\n"
   ]
  },
  {
   "cell_type": "code",
   "execution_count": null,
   "metadata": {},
   "outputs": [],
   "source": [
    "blueimarray = imarrayGBR[:,:,1]\n",
    "print(blueimarray.dtype, blueimarray.shape, blueimarray.min(), blueimarray.max())"
   ]
  },
  {
   "cell_type": "code",
   "execution_count": null,
   "metadata": {},
   "outputs": [],
   "source": [
    "def obtainNucleusCentroids(spray_paint_centers, blue_image_array):\n",
    "    \"\"\"Returns a numpy array of nucleus centroids\n",
    "    \n",
    "    Keyword arguments\n",
    "    --------------------\n",
    "    spray_paint_centers: [1D array with elements [x,y]]\n",
    "        1D array containing the pixel locations of various ROI centers\n",
    "        \n",
    "    blue_image_array: [2D image array]\n",
    "        2D image array\n",
    "        \n",
    "    Uses Otsu's Method for image segmentation.\n",
    "    \"\"\"\n",
    "    \n",
    "    n_cells = len(spray_paint_centers)\n",
    "    nucleus_centroids = []\n",
    "    blueimagearray = np.array(blue_image_array)\n",
    "    \n",
    "    for i, cell in enumerate(spray_paint_centers):\n",
    "        #print(i, cell)\n",
    "        blue_ROI = getROIpixels(blueimagearray, cell)\n",
    "        \n",
    "        ## Check for \n",
    "        #print(np.min(blue_ROI), np.max(blue_ROI))\n",
    "        #plt.imshow(blue_ROI)\n",
    "        blue_val_otsu = filters.threshold_otsu(blue_ROI)\n",
    "        blue_mask = blue_ROI > blue_val_otsu\n",
    "        \n",
    "        blue_all_labels = measure.label(blue_mask, connectivity=2)\n",
    "        blue_properties = measure.regionprops(label_image = blue_all_labels)\n",
    "        \n",
    "        blue_areas = [prop.area for prop in blue_properties]\n",
    "        \n",
    "        blue_largest_index = np.argmax(blue_areas)\n",
    "        \n",
    "        blue_largest_centroid = blue_properties[blue_largest_index].centroid\n",
    "        #plt.scatter(blue_largest_centroid[0], blue_largest_centroid[1], c='white')\n",
    "        nucleus_centroids.append(blue_largest_centroid)\n",
    "\n",
    "    return np.array(nucleus_centroids)"
   ]
  },
  {
   "cell_type": "code",
   "execution_count": null,
   "metadata": {},
   "outputs": [],
   "source": [
    "## Check to see if there are overlapping nuclei that could throw off the centroid \n",
    "## (see 'Animal 1_4hrs_002-edit.tif')\n",
    "\n",
    "#def checkForNonRoundness(imagearray):\n",
    "    "
   ]
  },
  {
   "cell_type": "code",
   "execution_count": null,
   "metadata": {},
   "outputs": [],
   "source": [
    "showimage(blueimarray, color='blue', title='Blue channel: Nuclei', vmax=5000)"
   ]
  },
  {
   "cell_type": "code",
   "execution_count": null,
   "metadata": {
    "scrolled": false
   },
   "outputs": [],
   "source": [
    "firstblueROI = getROIpixels(blueimarray, spraypaintcenters[0])\n",
    "showimage(firstblueROI, color='blue', title='First Blue ROI', vmax=5000)"
   ]
  },
  {
   "cell_type": "markdown",
   "metadata": {},
   "source": [
    "## Overlapping nuclei require image segmentation\n",
    "We have overlapping nuclei. Instead of crying and/or ignoring this region, let's get to work.\n",
    "\n",
    "First we'll do a binary segmentation to separate foreground from background.\n",
    "\n",
    "Then we'll hit 'em with a watershed segmentation to separate the objects."
   ]
  },
  {
   "cell_type": "code",
   "execution_count": null,
   "metadata": {
    "scrolled": false
   },
   "outputs": [],
   "source": [
    "from scipy import ndimage as ndi\n",
    "from skimage.morphology import watershed\n",
    "from skimage.feature import peak_local_max\n",
    "\n",
    "# Use Otsu's Method to separate foreground from background\n",
    "val_otsu_blue = filters.threshold_otsu(firstblueROI)\n",
    "binarymaskblue = firstblueROI > val_otsu_blue\n",
    "\n",
    "# Apply Euclidean Distance Transform to the binary image\n",
    "firstbluedistance = ndi.distance_transform_edt(binarymaskblue)\n",
    "\n",
    "# Obtain the local maxima using distance to the background\n",
    "firstbluelocalmaxi = peak_local_max(firstbluedistance,\n",
    "                                    min_distance=23, # ~ cell radius in pixels\n",
    "                                    exclude_border=True,\n",
    "                                    indices=False,\n",
    "                                    labels=binarymaskblue)\n",
    "\n",
    "# Mark the maxima\n",
    "firstbluemarkers, nfeatures = ndi.label(firstbluelocalmaxi)\n",
    "\n",
    "# Apply watershed segmentation. Don't forget about the negative!\n",
    "# The negative is important because watershed expects minima\n",
    "firstbluelabels = watershed(-firstbluedistance, firstbluemarkers,\n",
    "                           mask = binarymaskblue)\n",
    "\n",
    "\n",
    "## Plotting under this line ##\n",
    "\n",
    "# Group for plotting\n",
    "firstbluetitles = ['Original', 'Otsu', 'Distance','Separated']\n",
    "firstbluetoplot = [firstblueROI, binarymaskblue, firstbluedistance, firstbluelabels]\n",
    "\n",
    "fig, axes = plt.subplots(1,4, figsize=(12,3), sharex=True, sharey=True,\n",
    "                        subplot_kw={'adjustable':'box-forced'})\n",
    "ax = axes.ravel()\n",
    "\n",
    "for i in range(len(ax)):\n",
    "    ax[i].axis('off')\n",
    "    ax[i].imshow(firstbluetoplot[i], cmap=plt.cm.gray)\n",
    "    ax[i].set_title(firstbluetitles[i])"
   ]
  },
  {
   "cell_type": "markdown",
   "metadata": {},
   "source": [
    "Now that we have separate regions, we can calculate centroids and also determine which region is the desired nucleus.\n",
    "\n",
    "We know that our nucleus is going to be near the center of our image, so let's calculate the centroid for each region.\n"
   ]
  },
  {
   "cell_type": "code",
   "execution_count": null,
   "metadata": {
    "scrolled": false
   },
   "outputs": [],
   "source": [
    "## Get the pixel indices for the desired nucleus\n",
    "x, y = np.where(firstbluelabels==1)\n",
    "\n",
    "X = np.array((x,y)).T\n",
    "\n",
    "cent = X.mean(axis=0)\n",
    "#print(\"centroid: {}\".format(cent))\n",
    "\n",
    "tobefilled = np.zeros_like(firstblueROI)\n",
    "tobefilled[X[:,0], X[:,1]] = 1\n",
    "X = np.rot90(tobefilled, 0)\n",
    "\n",
    "## Plotting under this line ##\n",
    "\n",
    "plt.imshow(X, label='Nucleus', cmap='gray')\n",
    "plt.scatter(cent[1], cent[0], c='b', label='Centroid')\n",
    "\n",
    "plt.legend()"
   ]
  },
  {
   "cell_type": "code",
   "execution_count": null,
   "metadata": {},
   "outputs": [],
   "source": [
    "props = measure.regionprops(X, cache=False)\n",
    "#### Don't forget to convert these to microns at the end\n",
    "print(props[0]['area']*MICRONS_PER_PIXEL**2, props[0]['perimeter'])"
   ]
  },
  {
   "cell_type": "code",
   "execution_count": null,
   "metadata": {},
   "outputs": [],
   "source": [
    "bluecent = obtainNucleusCentroids(spraypaintcenters, blueimarray)\n",
    "bluecent\n",
    "\n",
    "## These pixel values are relative to the spraypaint centers"
   ]
  },
  {
   "cell_type": "code",
   "execution_count": null,
   "metadata": {},
   "outputs": [],
   "source": [
    "spraypaintcenters"
   ]
  },
  {
   "cell_type": "code",
   "execution_count": null,
   "metadata": {},
   "outputs": [],
   "source": [
    "import numpy as np\n",
    "import numpy.linalg as LA\n",
    "\n",
    "def determineAnglesFromPoints(A, B, origin):\n",
    "    \"\"\" Returns the angles [rad] between two points.\n",
    "    \n",
    "    Keyword arguments:\n",
    "    A: a 1-D numpy array with elements in the form [x,y]\n",
    "    B: a 1-D numpy array with elements in the form [x,y]\n",
    "    origin: a 1-D numpy array with elements in the form [x,y]\n",
    "    \n",
    "    We use the dot product between two Euclidean vectors A and B\n",
    "    to determine the angle between them.\n",
    "    \"\"\"\n",
    "    A_vectors = A - origin\n",
    "    B_vectors = B - origin\n",
    "    \n",
    "    magA = LA.norm(A_vectors, axis=1)\n",
    "    magB = LA.norm(B_vectors, axis=1)\n",
    "    \n",
    "    dotAB = np.sum(A_vectors*B_vectors, axis=1)\n",
    "    cosTheta = dotAB / (magA*magB)\n",
    "    \n",
    "    return np.arccos(cosTheta)"
   ]
  },
  {
   "cell_type": "code",
   "execution_count": null,
   "metadata": {},
   "outputs": [],
   "source": [
    "import numpy as np\n",
    "import numpy.linalg as LA\n",
    "### Importing tiff stack images with skimage.io.imread\n",
    "from skimage import io\n",
    "\n",
    "#imdir = 'C:/Users/letmedoit/endothelial Polarization-exp 1/Animal 1- 4hrs-marked/'\n",
    "\n",
    "\n",
    "def main():\n",
    "    ### Given a directory, get all of the image files.\n",
    "    main_dir = 'C:/Users/letmedoit/endothelial Polarization-exp 1'\n",
    "    #imagefiles = ...\n",
    "    \n",
    "    ### Initialize the lists for holding output data\n",
    "    nuclei_centroids = []\n",
    "    golgi_centroids = []\n",
    "    spray_paint_centroids = []\n",
    "    image_ID = []\n",
    "    golgi_area = []\n",
    "    golgi_perimeter = []\n",
    "    hours = []\n",
    "    \n",
    "    \n",
    "    ### loop through the images\n",
    "    '''for image in imagefiles:\n",
    "        imagearrayGBR = io.imread(image)\n",
    "        \n",
    "        greenarray = imarrayGBR[:,:,0]\n",
    "        bluearray = imarrayGBR[:,:,1]\n",
    "        #red\n",
    "        \n",
    "        nuclei_centroids.append(imagenucleicentroids)\n",
    "        golgi_centroids.append(imagegolgicentroids)\n",
    "        image_ID.append(imageID)\n",
    "    \n",
    "    nuclei_centroids = np.array(nuclei_centroids)\n",
    "    golgi_centroids = np.array(golgi_centroids)\n",
    "    \n",
    "    angles = determineAnglesFromPoints(nuclei_centroids,\n",
    "                                        golgi_centroids,\n",
    "                                        spray_paint_centroids)\n",
    "    \n",
    "    \n",
    "    ### Combine the data into a dataframe\n",
    "    d = {'imageID' : image_ID,\n",
    "        'nucleiCentroidsInPixels' : nuclei_centroids,\n",
    "        'golgiCentroidsInPixels' : golgi_centroids,\n",
    "        'ROICentroidsInPixels' : spray_paint_centroids,\n",
    "        'golgiAreaInMicronSquared' : golgi_area,\n",
    "        'golgiPerimeterInMicronSquared' : golgi_perimeter\n",
    "        'angle' : angles}\n",
    "    df = pd.DataFrame(data=d)\n",
    "    \n",
    "    ### Write data to csv file\n",
    "    csvfilename = 'C:/Users/letmedoit/endothelial Polarization-exp 1/data.csv'\n",
    "    df.to_csv(csvfilename)\n",
    "    \n",
    "    ### Scatter matrix, etc.\n",
    "    '''\n",
    "if __name__ == '__main__':\n",
    "    main()"
   ]
  },
  {
   "cell_type": "code",
   "execution_count": null,
   "metadata": {},
   "outputs": [],
   "source": [
    "testA = np.array([[0.5, 0.4], [0.8, 1], [0.35, 0.22]])\n",
    "testB = np.array([[0.2, 0.1], [0.3, 0.6], [0.32,0.43]])\n",
    "origins = np.zeros_like(testA)\n",
    "\n",
    "determineAnglesFromPoints(testA, testB, origins)"
   ]
  }
 ],
 "metadata": {
  "kernelspec": {
   "display_name": "Python 3",
   "language": "python",
   "name": "python3"
  },
  "language_info": {
   "codemirror_mode": {
    "name": "ipython",
    "version": 3
   },
   "file_extension": ".py",
   "mimetype": "text/x-python",
   "name": "python",
   "nbconvert_exporter": "python",
   "pygments_lexer": "ipython3",
   "version": "3.5.4"
  }
 },
 "nbformat": 4,
 "nbformat_minor": 2
}
